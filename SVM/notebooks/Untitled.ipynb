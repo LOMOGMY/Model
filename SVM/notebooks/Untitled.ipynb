{
 "cells": [
  {
   "cell_type": "code",
   "execution_count": 10,
   "metadata": {
    "collapsed": false
   },
   "outputs": [
    {
     "data": {
      "image/png": "[encoded data removed]",
      "text/plain": [
       "<matplotlib.figure.Figure at 0x1f30fa37240>"
      ]
     },
     "metadata": {},
     "output_type": "display_data"
    }
   ],
   "source": [
    "%matplotlib inline\n",
    "from sklearn.datasets.samples_generator import make_blobs\n",
    "import numpy as np\n",
    "import matplotlib.pyplot as plt\n",
    "from scipy import stats\n",
    "\n",
    "import seaborn as sns; sns.set()\n",
    "X, y = make_blobs(n_samples=100, centers=5,\n",
    "                  random_state=0, cluster_std=0.5)\n",
    "plt.scatter(X[:, 0], X[:, 1], c=y, s=50, cmap='autumn');"
   ]
  },
  {
   "cell_type": "code",
   "execution_count": 22,
   "metadata": {
    "collapsed": false
   },
   "outputs": [
    {
     "data": {
      "text/plain": [
       "GridSearchCV(cv=None, error_score='raise',\n",
       "       estimator=SVC(C=1.0, cache_size=200, class_weight=None, coef0=0.0,\n",
       "  decision_function_shape='ovr', degree=3, gamma='auto', kernel='rbf',\n",
       "  max_iter=-1, probability=False, random_state=None, shrinking=True,\n",
       "  tol=0.001, verbose=False),\n",
       "       fit_params=None, iid=True, n_jobs=1,\n",
       "       param_grid={'kernel': ('linear', 'rbf'), 'C': [1, 10], 'gamma': [0.1, 10]},\n",
       "       pre_dispatch='2*n_jobs', refit=True, return_train_score=True,\n",
       "       scoring=None, verbose=0)"
      ]
     },
     "execution_count": 22,
     "metadata": {},
     "output_type": "execute_result"
    }
   ],
   "source": [
    "from sklearn import svm, datasets\n",
    "from sklearn.model_selection import GridSearchCV\n",
    "iris = datasets.load_iris()\n",
    "parameters = {'kernel':('linear', 'rbf'), 'C':[1, 10],'gamma':[0.1,10]}\n",
    "svc = svm.SVC()\n",
    "clf = GridSearchCV(svc, parameters)\n",
    "clf.fit(iris.data, iris.target)                           \n"
   ]
  },
  {
   "cell_type": "code",
   "execution_count": 30,
   "metadata": {
    "collapsed": false
   },
   "outputs": [
    {
     "data": {
      "text/plain": [
       "{'mean_fit_time': array([ 0.00066892,  0.00083725,  0.00016721,  0.00066797,  0.00050529,\n",
       "         0.00033919,  0.00050545,  0.00049941]),\n",
       " 'mean_score_time': array([ 0.        ,  0.00033545,  0.00016793,  0.        ,  0.        ,\n",
       "         0.00016729,  0.        ,  0.00050235]),\n",
       " 'mean_test_score': array([ 0.98      ,  0.97333333,  0.98      ,  0.96      ,  0.97333333,\n",
       "         0.97333333,  0.97333333,  0.96666667]),\n",
       " 'mean_train_score': array([ 0.98999802,  0.97346009,  0.98999802,  1.        ,  0.97999604,\n",
       "         0.98009507,  0.97999604,  1.        ]),\n",
       " 'param_C': masked_array(data = [1 1 1 1 10 10 10 10],\n",
       "              mask = [False False False False False False False False],\n",
       "        fill_value = ?),\n",
       " 'param_gamma': masked_array(data = [0.1 0.1 10 10 0.1 0.1 10 10],\n",
       "              mask = [False False False False False False False False],\n",
       "        fill_value = ?),\n",
       " 'param_kernel': masked_array(data = ['linear' 'rbf' 'linear' 'rbf' 'linear' 'rbf' 'linear' 'rbf'],\n",
       "              mask = [False False False False False False False False],\n",
       "        fill_value = ?),\n",
       " 'params': [{'C': 1, 'gamma': 0.1, 'kernel': 'linear'},\n",
       "  {'C': 1, 'gamma': 0.1, 'kernel': 'rbf'},\n",
       "  {'C': 1, 'gamma': 10, 'kernel': 'linear'},\n",
       "  {'C': 1, 'gamma': 10, 'kernel': 'rbf'},\n",
       "  {'C': 10, 'gamma': 0.1, 'kernel': 'linear'},\n",
       "  {'C': 10, 'gamma': 0.1, 'kernel': 'rbf'},\n",
       "  {'C': 10, 'gamma': 10, 'kernel': 'linear'},\n",
       "  {'C': 10, 'gamma': 10, 'kernel': 'rbf'}],\n",
       " 'rank_test_score': array([1, 3, 1, 8, 3, 3, 3, 7]),\n",
       " 'split0_test_score': array([ 1.        ,  0.98039216,  1.        ,  0.98039216,  1.        ,\n",
       "         0.98039216,  1.        ,  1.        ]),\n",
       " 'split0_train_score': array([ 0.97979798,  0.97979798,  0.97979798,  1.        ,  0.95959596,\n",
       "         0.96969697,  0.95959596,  1.        ]),\n",
       " 'split1_test_score': array([ 0.96078431,  0.96078431,  0.96078431,  0.92156863,  0.92156863,\n",
       "         0.94117647,  0.92156863,  0.92156863]),\n",
       " 'split1_train_score': array([ 1.        ,  0.97979798,  1.        ,  1.        ,  1.        ,\n",
       "         1.        ,  1.        ,  1.        ]),\n",
       " 'split2_test_score': array([ 0.97916667,  0.97916667,  0.97916667,  0.97916667,  1.        ,\n",
       "         1.        ,  1.        ,  0.97916667]),\n",
       " 'split2_train_score': array([ 0.99019608,  0.96078431,  0.99019608,  1.        ,  0.98039216,\n",
       "         0.97058824,  0.98039216,  1.        ]),\n",
       " 'std_fit_time': array([  2.36079531e-04,   2.37654442e-04,   2.36471918e-04,\n",
       "          2.36247456e-04,   4.89903609e-07,   2.40057189e-04,\n",
       "          9.21131242e-06,   2.02616831e-06]),\n",
       " 'std_score_time': array([  0.00000000e+00,   2.37226926e-04,   2.37483442e-04,\n",
       "          0.00000000e+00,   0.00000000e+00,   2.36584310e-04,\n",
       "          0.00000000e+00,   1.87730977e-06]),\n",
       " 'std_test_score': array([ 0.01617914,  0.00902067,  0.01617914,  0.02758824,  0.03715363,\n",
       "         0.02441472,  0.03715363,  0.03345566]),\n",
       " 'std_train_score': array([ 0.00824863,  0.00896313,  0.00824863,  0.        ,  0.01649726,\n",
       "         0.01407961,  0.01649726,  0.        ])}"
      ]
     },
     "execution_count": 30,
     "metadata": {},
     "output_type": "execute_result"
    }
   ],
   "source": [
    "clf.cv_results_"
   ]
  },
  {
   "cell_type": "code",
   "execution_count": null,
   "metadata": {
    "collapsed": true
   },
   "outputs": [],
   "source": []
  }
 ],
 "metadata": {
  "kernelspec": {
   "display_name": "Python 3",
   "language": "python",
   "name": "python3"
  },
  "language_info": {
   "codemirror_mode": {
    "name": "ipython",
    "version": 3
   },
   "file_extension": ".py",
   "mimetype": "text/x-python",
   "name": "python",
   "nbconvert_exporter": "python",
   "pygments_lexer": "ipython3",
   "version": "3.6.0"
  }
 },
 "nbformat": 4,
 "nbformat_minor": 2
}
